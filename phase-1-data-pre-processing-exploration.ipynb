{
  "nbformat": 4,
  "nbformat_minor": 0,
  "metadata": {
    "colab": {
      "name": "Project_Groups_77_Project.ipynb",
      "provenance": [],
      "collapsed_sections": []
    },
    "kernelspec": {
      "name": "python3",
      "display_name": "Python 3"
    }
  },
  "cells": [
    {
      "cell_type": "markdown",
      "metadata": {
        "id": "On8eDZqVFsr4"
      },
      "source": [
        "# **Analysis of Categorical Data - Phase 1**"
      ]
    },
    {
      "cell_type": "markdown",
      "metadata": {
        "id": "gF5FAxXEZxnd"
      },
      "source": [
        "**Project Group Name :** Project Groups 77\n",
        "<br>**Members :**\n",
        "- **Shubham Gupta** - **s3806186**"
      ]
    },
    {
      "cell_type": "markdown",
      "metadata": {
        "id": "OWv7mcIyiMi9"
      },
      "source": [
        "##**Plausible causes of Heart Disease (UCI Analysis of Heart Disease)** "
      ]
    },
    {
      "cell_type": "markdown",
      "metadata": {
        "id": "2olflSNKcRtc"
      },
      "source": [
        "#### **Table of content  :**\n",
        " -  [Data Source and Description](#DataSourceAndDescription) Describes our `hearts.csv` dataset and its features.\n",
        " -  [Goals and Objectives](#GoalsAndObjectives) Our reason for selecting this dataset and what our goal is.\n",
        " -  [Data Cleaning and Preprocessing](#DataCleaningAndPreprocessing) Process for Data cleaning and Data Transformation.\n",
        " -  [Data Exploration and Visualization](#DataExplorationAndVisualization) Identifying and plotting Uni,Bi and Multi variate relationships between the features in our dataset.\n",
        " - [Preparing Data For Modeling](#PreparingDataForModeling) Encoding categorical features in order to prepare data for modeling\n",
        " -  [References](#References) Sources we refered for our project"
      ]
    },
    {
      "cell_type": "markdown",
      "metadata": {
        "id": "rGZneCGUtJjc"
      },
      "source": [
        "### **Data Source and Description** <a name='DataSourceAndDescription'></a>\n",
        "\n",
        "***Source*** : Heart Disease UCI. Kaggle.com. (2020). Retrieved 24 September 2020, from https://www.kaggle.com/ronitf/heart-disease-uci.\n",
        "\n",
        "##### **Overview of the Dataset** : Our datasouce is sourced from the oringinal databases of Cleveland, Hungaria, Switzerland and Long Beach VA, concerning heart disease diagnosis.The original database consisted of a total of 76 raw attributes, however for the purpose of modeling the data, only 14 of them were actually used.Our dataset deals in identifying the various factors that might lead to the diagnosis of a Heart disease. \n",
        "\n",
        "##### **Description of the Dataset** : The `hearts.csv` dataset contains a total of 303 observations, taken from the instances of the Cleveland database and has a total of 14 features out of which 13 are descriptive features and `target` is our target feature.\n",
        "\n",
        "The following is the detailed description of the features in the dataset.\n",
        "\n",
        "Feature | Data Type | Unit | Description\n",
        "--- | --- | --- | ---\n",
        "age      |   Numerical | In years |The age of the person.\n",
        "sex      |   Binary | Unknown | The gender of the person : <br><br>1. Male<br><br>2. Female\n",
        "cp       |   Nominal Categorical | Unknown | Depicts the type of chest pain : <br><br>1. Typical angina<br><br>2. Atypical angina<br><br>3. Non-anginal<br><br>4. Asymptomatic\n",
        "trestbps |   Numerical | mm Hg | Shows the resting blood pressure at the time of admission.\n",
        "chol     |   Numerical | mg/dl | The serum cholestoral level\n",
        "fbs      |   Binary | Unknown | Check for fasting blood pressure greater than 120 mg/dl : <br><br>1. True<br><br>0. False\n",
        "restecg  |   Nominal Categorical | Unknown | The resting electrocardiograph result : <br><br>0. Normal<br><br>1. ST-T wave abnormality<br><br>2. Left ventricular hypertrophy \n",
        "thalach  |   Numerical | BPM | Displays the maximum heart rate achieved\n",
        "exang    |   Binary | Unknown | Whether the angina was induced through exercise : <br><br>1. Yes<br><br>0. No\n",
        "oldpeak  | Numerical | Unknown | ST depression induced by exercise relative to rest\n",
        "slope    |   Nominal Categorical | Unknown | Type of slope of the peak exercise ST segment : <br><br>1. Upsloping<br><br>2. Flat<br><br>3. Downsloping \n",
        "ca       |   Numerical | Unknown | Number of major vessels\n",
        "thal     |   Nominal Categorical | Unknown | A blood disorder called thalassemia (3 = normal; 6 = fixed defect; 7 = reversable defect)\n",
        "target   |   Binary | Unknown | Diagnosed with heart disease  : <br><br>0. No<br><br>1. Yes\n",
        "\n",
        "\n",
        "\n",
        "**Target feature :** The feature `target` in our dataset is our target feature with two possible categories :<br>**0** : No heart disease and <br>**1** : Heart disease.<br>In order for a person to be diagosed with a heart disease, there has to be greater than 50% narrowing of any major vessel."
      ]
    },
    {
      "cell_type": "markdown",
      "metadata": {
        "id": "sgN2Fei5whJe"
      },
      "source": [
        "### **Goals and Objectives** <a name=GoalsAndObjectives></a>\n",
        "\n",
        "The importance of machine learning and statistical modeling in the field of healthcare is unparallel when compared to any other field as it ultimately deals with the matter of a person's health and well being. However, in order to fully utilize the advantages of statistical modeling, careful statistical and insightful analysis of data must be performed. With the availability of more and more public healthcare data the need to identify possible trends or patterns in order to identify or prevent diseases has become the need of the hour.\n",
        "\n",
        "Our dataset deals with the person having a heart disease or not based on various attributes and features.\n",
        "\n",
        "Our aim is to identify which feature or set of features recorded during a patient's diagnosis plays an important role in determining whether a person is more likely to have a heart disease or not.\n"
      ]
    },
    {
      "cell_type": "markdown",
      "metadata": {
        "id": "wyGwjwYQwif-"
      },
      "source": [
        "### **Data Cleaning and Preprocessing** <a name=DataCleaningAndPreprocessing></a>\n"
      ]
    },
    {
      "cell_type": "markdown",
      "metadata": {
        "id": "RcEJ0iLgeSbi"
      },
      "source": [
        "##### **Importing Libraries**"
      ]
    },
    {
      "cell_type": "code",
      "metadata": {
        "id": "9PY-B4hbEdBF",
        "outputId": "3fbc51c0-6399-420f-a72e-3e592af329c2",
        "colab": {
          "base_uri": "https://localhost:8080/",
          "height": 71
        }
      },
      "source": [
        "import pandas as pd\n",
        "import numpy as np\n",
        "import matplotlib.pyplot as plt\n",
        "import seaborn as sns\n",
        "import warnings"
      ],
      "execution_count": 1,
      "outputs": [
        {
          "output_type": "stream",
          "text": [
            "/usr/local/lib/python3.6/dist-packages/statsmodels/tools/_testing.py:19: FutureWarning: pandas.util.testing is deprecated. Use the functions in the public API at pandas.testing instead.\n",
            "  import pandas.util.testing as tm\n"
          ],
          "name": "stderr"
        }
      ]
    },
    {
      "cell_type": "markdown",
      "metadata": {
        "id": "W1HQf5Xrx0oY"
      },
      "source": [
        "##### **Settings**"
      ]
    },
    {
      "cell_type": "code",
      "metadata": {
        "id": "XMJr0JYKxogn"
      },
      "source": [
        "warnings.filterwarnings(\"ignore\")\n",
        "pd.set_option('display.max_columns', None) "
      ],
      "execution_count": 2,
      "outputs": []
    },
    {
      "cell_type": "markdown",
      "metadata": {
        "id": "N8v-c3YDhrGf"
      },
      "source": [
        "##### **Importing the dataset**"
      ]
    },
    {
      "cell_type": "markdown",
      "metadata": {
        "id": "DiWDeqssykzX"
      },
      "source": [
        "##### Using the `pd.read_csv()` method to read the dataset"
      ]
    },
    {
      "cell_type": "code",
      "metadata": {
        "id": "iyIKpRsBGCqA",
        "outputId": "93b50a12-79e2-449d-ecea-156bcd00da53",
        "colab": {
          "base_uri": "https://localhost:8080/",
          "height": 204
        }
      },
      "source": [
        "df=pd.read_csv('./Project_Groups_77_Data.csv')\n",
        "# Displaying the first five rows of the dataset\n",
        "df.head()"
      ],
      "execution_count": 3,
      "outputs": [
        {
          "output_type": "execute_result",
          "data": {
            "text/html": [
              "<div>\n",
              "<style scoped>\n",
              "    .dataframe tbody tr th:only-of-type {\n",
              "        vertical-align: middle;\n",
              "    }\n",
              "\n",
              "    .dataframe tbody tr th {\n",
              "        vertical-align: top;\n",
              "    }\n",
              "\n",
              "    .dataframe thead th {\n",
              "        text-align: right;\n",
              "    }\n",
              "</style>\n",
              "<table border=\"1\" class=\"dataframe\">\n",
              "  <thead>\n",
              "    <tr style=\"text-align: right;\">\n",
              "      <th></th>\n",
              "      <th>age</th>\n",
              "      <th>sex</th>\n",
              "      <th>cp</th>\n",
              "      <th>trestbps</th>\n",
              "      <th>chol</th>\n",
              "      <th>fbs</th>\n",
              "      <th>restecg</th>\n",
              "      <th>thalach</th>\n",
              "      <th>exang</th>\n",
              "      <th>oldpeak</th>\n",
              "      <th>slope</th>\n",
              "      <th>ca</th>\n",
              "      <th>thal</th>\n",
              "      <th>target</th>\n",
              "    </tr>\n",
              "  </thead>\n",
              "  <tbody>\n",
              "    <tr>\n",
              "      <th>0</th>\n",
              "      <td>63</td>\n",
              "      <td>1</td>\n",
              "      <td>3</td>\n",
              "      <td>145</td>\n",
              "      <td>233</td>\n",
              "      <td>1</td>\n",
              "      <td>0</td>\n",
              "      <td>150</td>\n",
              "      <td>0</td>\n",
              "      <td>2.3</td>\n",
              "      <td>0</td>\n",
              "      <td>0</td>\n",
              "      <td>1</td>\n",
              "      <td>1</td>\n",
              "    </tr>\n",
              "    <tr>\n",
              "      <th>1</th>\n",
              "      <td>37</td>\n",
              "      <td>1</td>\n",
              "      <td>2</td>\n",
              "      <td>130</td>\n",
              "      <td>250</td>\n",
              "      <td>0</td>\n",
              "      <td>1</td>\n",
              "      <td>187</td>\n",
              "      <td>0</td>\n",
              "      <td>3.5</td>\n",
              "      <td>0</td>\n",
              "      <td>0</td>\n",
              "      <td>2</td>\n",
              "      <td>1</td>\n",
              "    </tr>\n",
              "    <tr>\n",
              "      <th>2</th>\n",
              "      <td>41</td>\n",
              "      <td>0</td>\n",
              "      <td>1</td>\n",
              "      <td>130</td>\n",
              "      <td>204</td>\n",
              "      <td>0</td>\n",
              "      <td>0</td>\n",
              "      <td>172</td>\n",
              "      <td>0</td>\n",
              "      <td>1.4</td>\n",
              "      <td>2</td>\n",
              "      <td>0</td>\n",
              "      <td>2</td>\n",
              "      <td>1</td>\n",
              "    </tr>\n",
              "    <tr>\n",
              "      <th>3</th>\n",
              "      <td>56</td>\n",
              "      <td>1</td>\n",
              "      <td>1</td>\n",
              "      <td>120</td>\n",
              "      <td>236</td>\n",
              "      <td>0</td>\n",
              "      <td>1</td>\n",
              "      <td>178</td>\n",
              "      <td>0</td>\n",
              "      <td>0.8</td>\n",
              "      <td>2</td>\n",
              "      <td>0</td>\n",
              "      <td>2</td>\n",
              "      <td>1</td>\n",
              "    </tr>\n",
              "    <tr>\n",
              "      <th>4</th>\n",
              "      <td>57</td>\n",
              "      <td>0</td>\n",
              "      <td>0</td>\n",
              "      <td>120</td>\n",
              "      <td>354</td>\n",
              "      <td>0</td>\n",
              "      <td>1</td>\n",
              "      <td>163</td>\n",
              "      <td>1</td>\n",
              "      <td>0.6</td>\n",
              "      <td>2</td>\n",
              "      <td>0</td>\n",
              "      <td>2</td>\n",
              "      <td>1</td>\n",
              "    </tr>\n",
              "  </tbody>\n",
              "</table>\n",
              "</div>"
            ],
            "text/plain": [
              "   age  sex  cp  trestbps  chol  fbs  restecg  thalach  exang  oldpeak  slope  \\\n",
              "0   63    1   3       145   233    1        0      150      0      2.3      0   \n",
              "1   37    1   2       130   250    0        1      187      0      3.5      0   \n",
              "2   41    0   1       130   204    0        0      172      0      1.4      2   \n",
              "3   56    1   1       120   236    0        1      178      0      0.8      2   \n",
              "4   57    0   0       120   354    0        1      163      1      0.6      2   \n",
              "\n",
              "   ca  thal  target  \n",
              "0   0     1       1  \n",
              "1   0     2       1  \n",
              "2   0     2       1  \n",
              "3   0     2       1  \n",
              "4   0     2       1  "
            ]
          },
          "metadata": {
            "tags": []
          },
          "execution_count": 3
        }
      ]
    },
    {
      "cell_type": "markdown",
      "metadata": {
        "id": "0yCzekmOzRHV"
      },
      "source": [
        "##### **Data Cleaning and Preparation**"
      ]
    },
    {
      "cell_type": "code",
      "metadata": {
        "id": "_WCgcLCkGRsd",
        "outputId": "a2ca6574-8afe-4251-ccfb-645ee378bd1d",
        "colab": {
          "base_uri": "https://localhost:8080/",
          "height": 34
        }
      },
      "source": [
        "# Displaying the dimension of the dataset\n",
        "df.shape"
      ],
      "execution_count": 4,
      "outputs": [
        {
          "output_type": "execute_result",
          "data": {
            "text/plain": [
              "(303, 14)"
            ]
          },
          "metadata": {
            "tags": []
          },
          "execution_count": 4
        }
      ]
    },
    {
      "cell_type": "code",
      "metadata": {
        "id": "2CC-6M7eGUqO",
        "outputId": "73b154d5-cffa-47b9-a2e3-bd8f56922d4d",
        "colab": {
          "base_uri": "https://localhost:8080/",
          "height": 272
        }
      },
      "source": [
        "# Getting an overview of the data types of all columns in the dataframe\n",
        "df.dtypes"
      ],
      "execution_count": 5,
      "outputs": [
        {
          "output_type": "execute_result",
          "data": {
            "text/plain": [
              "age           int64\n",
              "sex           int64\n",
              "cp            int64\n",
              "trestbps      int64\n",
              "chol          int64\n",
              "fbs           int64\n",
              "restecg       int64\n",
              "thalach       int64\n",
              "exang         int64\n",
              "oldpeak     float64\n",
              "slope         int64\n",
              "ca            int64\n",
              "thal          int64\n",
              "target        int64\n",
              "dtype: object"
            ]
          },
          "metadata": {
            "tags": []
          },
          "execution_count": 5
        }
      ]
    },
    {
      "cell_type": "markdown",
      "metadata": {
        "id": "MsUfQPGa0foG"
      },
      "source": [
        "Checking for columns which are constant i.e. having only one unique value using the `nunique()` method"
      ]
    },
    {
      "cell_type": "code",
      "metadata": {
        "id": "INkjLJ300D69",
        "outputId": "fc022775-52bf-4d0a-9d7d-1d71198e361d",
        "colab": {
          "base_uri": "https://localhost:8080/",
          "height": 493
        }
      },
      "source": [
        "for cols in df.columns:\n",
        "  print(\"Column Name : \",cols)\n",
        "  print(\"Unique Values : \",df[cols].nunique())"
      ],
      "execution_count": 6,
      "outputs": [
        {
          "output_type": "stream",
          "text": [
            "Column Name :  age\n",
            "Unique Values :  41\n",
            "Column Name :  sex\n",
            "Unique Values :  2\n",
            "Column Name :  cp\n",
            "Unique Values :  4\n",
            "Column Name :  trestbps\n",
            "Unique Values :  49\n",
            "Column Name :  chol\n",
            "Unique Values :  152\n",
            "Column Name :  fbs\n",
            "Unique Values :  2\n",
            "Column Name :  restecg\n",
            "Unique Values :  3\n",
            "Column Name :  thalach\n",
            "Unique Values :  91\n",
            "Column Name :  exang\n",
            "Unique Values :  2\n",
            "Column Name :  oldpeak\n",
            "Unique Values :  40\n",
            "Column Name :  slope\n",
            "Unique Values :  3\n",
            "Column Name :  ca\n",
            "Unique Values :  5\n",
            "Column Name :  thal\n",
            "Unique Values :  4\n",
            "Column Name :  target\n",
            "Unique Values :  2\n"
          ],
          "name": "stdout"
        }
      ]
    },
    {
      "cell_type": "markdown",
      "metadata": {
        "id": "B5K6_9M20x8S"
      },
      "source": [
        "From the above output we can clearly conclude that the dataset has no constant features.\n"
      ]
    },
    {
      "cell_type": "markdown",
      "metadata": {
        "id": "9uiZgEbi1rlz"
      },
      "source": [
        "##### **Handling Missing Values**"
      ]
    },
    {
      "cell_type": "markdown",
      "metadata": {
        "id": "aj8Ma5BC2E6N"
      },
      "source": [
        "Looping through all the columns to find if there are any missing values in the dataset using the `isnull().sum()` method."
      ]
    },
    {
      "cell_type": "code",
      "metadata": {
        "id": "5hwHWQAt1xjH",
        "outputId": "3dddeef1-e8fa-4767-cc4a-f554cb28e4f7",
        "colab": {
          "base_uri": "https://localhost:8080/",
          "height": 493
        }
      },
      "source": [
        "for cols in df.columns:\n",
        "  print(\"Column Name : \",cols)\n",
        "  print(\"Missing Values : \",df[cols].isnull().sum())"
      ],
      "execution_count": 7,
      "outputs": [
        {
          "output_type": "stream",
          "text": [
            "Column Name :  age\n",
            "Missing Values :  0\n",
            "Column Name :  sex\n",
            "Missing Values :  0\n",
            "Column Name :  cp\n",
            "Missing Values :  0\n",
            "Column Name :  trestbps\n",
            "Missing Values :  0\n",
            "Column Name :  chol\n",
            "Missing Values :  0\n",
            "Column Name :  fbs\n",
            "Missing Values :  0\n",
            "Column Name :  restecg\n",
            "Missing Values :  0\n",
            "Column Name :  thalach\n",
            "Missing Values :  0\n",
            "Column Name :  exang\n",
            "Missing Values :  0\n",
            "Column Name :  oldpeak\n",
            "Missing Values :  0\n",
            "Column Name :  slope\n",
            "Missing Values :  0\n",
            "Column Name :  ca\n",
            "Missing Values :  0\n",
            "Column Name :  thal\n",
            "Missing Values :  0\n",
            "Column Name :  target\n",
            "Missing Values :  0\n"
          ],
          "name": "stdout"
        }
      ]
    },
    {
      "cell_type": "markdown",
      "metadata": {
        "id": "LHeP3PPE2VFT"
      },
      "source": [
        "##### **Converting columns to `object` datatype from `int64` or `float64` datatypes.**"
      ]
    },
    {
      "cell_type": "markdown",
      "metadata": {
        "id": "Kg-gv_B34HdY"
      },
      "source": [
        "Since, a number of columns in the dataset are wronlgly classified as numeric features instead of categorical features, we need to convert them to categorical datatype."
      ]
    },
    {
      "cell_type": "code",
      "metadata": {
        "id": "y-I_M3v3MVxM"
      },
      "source": [
        "# Generating lists of categorical and numerical columns \n",
        "categorical_columns=['sex','cp','fbs','restecg','exang','slope','thal','target']\n",
        "numerical_columns=['age','trestbps','chol','thalach','oldpeak','ca']"
      ],
      "execution_count": 8,
      "outputs": []
    },
    {
      "cell_type": "markdown",
      "metadata": {
        "id": "O8K899CB4Zes"
      },
      "source": [
        "Converting the possible categorical columns using the `astype('object')` method. "
      ]
    },
    {
      "cell_type": "code",
      "metadata": {
        "id": "JAQtGiFnMZFu",
        "outputId": "42c9f613-43be-48e6-fc90-65d8a7871d48",
        "colab": {
          "base_uri": "https://localhost:8080/",
          "height": 272
        }
      },
      "source": [
        "for cols in categorical_columns:\n",
        "  df[cols]=df[cols].astype('object')\n",
        "  \n",
        "# Checking the datatypes of all the columns again\n",
        "df.dtypes"
      ],
      "execution_count": 9,
      "outputs": [
        {
          "output_type": "execute_result",
          "data": {
            "text/plain": [
              "age           int64\n",
              "sex          object\n",
              "cp           object\n",
              "trestbps      int64\n",
              "chol          int64\n",
              "fbs          object\n",
              "restecg      object\n",
              "thalach       int64\n",
              "exang        object\n",
              "oldpeak     float64\n",
              "slope        object\n",
              "ca            int64\n",
              "thal         object\n",
              "target       object\n",
              "dtype: object"
            ]
          },
          "metadata": {
            "tags": []
          },
          "execution_count": 9
        }
      ]
    },
    {
      "cell_type": "markdown",
      "metadata": {
        "id": "hxHguYMY3vA8"
      },
      "source": [
        "##### **Checking for possible typos,impossible values, etc using the `.unique()` method for all features.**"
      ]
    },
    {
      "cell_type": "code",
      "metadata": {
        "id": "ZZp_dqe3Gsdb",
        "outputId": "52adae8e-2fa1-4b85-d58d-340d4a78ebce",
        "colab": {
          "base_uri": "https://localhost:8080/",
          "height": 799
        }
      },
      "source": [
        " for col in df:\n",
        "  print(\"Column : \",col)\n",
        "  print(df[col].unique())"
      ],
      "execution_count": 10,
      "outputs": [
        {
          "output_type": "stream",
          "text": [
            "Column :  age\n",
            "[63 37 41 56 57 44 52 54 48 49 64 58 50 66 43 69 59 42 61 40 71 51 65 53\n",
            " 46 45 39 47 62 34 35 29 55 60 67 68 74 76 70 38 77]\n",
            "Column :  sex\n",
            "[1 0]\n",
            "Column :  cp\n",
            "[3 2 1 0]\n",
            "Column :  trestbps\n",
            "[145 130 120 140 172 150 110 135 160 105 125 142 155 104 138 128 108 134\n",
            " 122 115 118 100 124  94 112 102 152 101 132 148 178 129 180 136 126 106\n",
            " 156 170 146 117 200 165 174 192 144 123 154 114 164]\n",
            "Column :  chol\n",
            "[233 250 204 236 354 192 294 263 199 168 239 275 266 211 283 219 340 226\n",
            " 247 234 243 302 212 175 417 197 198 177 273 213 304 232 269 360 308 245\n",
            " 208 264 321 325 235 257 216 256 231 141 252 201 222 260 182 303 265 309\n",
            " 186 203 183 220 209 258 227 261 221 205 240 318 298 564 277 214 248 255\n",
            " 207 223 288 160 394 315 246 244 270 195 196 254 126 313 262 215 193 271\n",
            " 268 267 210 295 306 178 242 180 228 149 278 253 342 157 286 229 284 224\n",
            " 206 167 230 335 276 353 225 330 290 172 305 188 282 185 326 274 164 307\n",
            " 249 341 407 217 174 281 289 322 299 300 293 184 409 259 200 327 237 218\n",
            " 319 166 311 169 187 176 241 131]\n",
            "Column :  fbs\n",
            "[1 0]\n",
            "Column :  restecg\n",
            "[0 1 2]\n",
            "Column :  thalach\n",
            "[150 187 172 178 163 148 153 173 162 174 160 139 171 144 158 114 151 161\n",
            " 179 137 157 123 152 168 140 188 125 170 165 142 180 143 182 156 115 149\n",
            " 146 175 186 185 159 130 190 132 147 154 202 166 164 184 122 169 138 111\n",
            " 145 194 131 133 155 167 192 121  96 126 105 181 116 108 129 120 112 128\n",
            " 109 113  99 177 141 136  97 127 103 124  88 195 106  95 117  71 118 134\n",
            "  90]\n",
            "Column :  exang\n",
            "[0 1]\n",
            "Column :  oldpeak\n",
            "[2.3 3.5 1.4 0.8 0.6 0.4 1.3 0.  0.5 1.6 1.2 0.2 1.8 1.  2.6 1.5 3.  2.4\n",
            " 0.1 1.9 4.2 1.1 2.  0.7 0.3 0.9 3.6 3.1 3.2 2.5 2.2 2.8 3.4 6.2 4.  5.6\n",
            " 2.9 2.1 3.8 4.4]\n",
            "Column :  slope\n",
            "[0 2 1]\n",
            "Column :  ca\n",
            "[0 2 1 3 4]\n",
            "Column :  thal\n",
            "[1 2 3 0]\n",
            "Column :  target\n",
            "[1 0]\n"
          ],
          "name": "stdout"
        }
      ]
    },
    {
      "cell_type": "markdown",
      "metadata": {
        "id": "fvyLsfEX4rdk"
      },
      "source": [
        "##### **Summary Statistics for Continuous Features**"
      ]
    },
    {
      "cell_type": "code",
      "metadata": {
        "id": "uk4hTvg949Uw",
        "outputId": "cc70e566-dd55-48c9-e2b1-03e38af4bc78",
        "colab": {
          "base_uri": "https://localhost:8080/",
          "height": 297
        }
      },
      "source": [
        "df.describe(exclude='object')"
      ],
      "execution_count": 11,
      "outputs": [
        {
          "output_type": "execute_result",
          "data": {
            "text/html": [
              "<div>\n",
              "<style scoped>\n",
              "    .dataframe tbody tr th:only-of-type {\n",
              "        vertical-align: middle;\n",
              "    }\n",
              "\n",
              "    .dataframe tbody tr th {\n",
              "        vertical-align: top;\n",
              "    }\n",
              "\n",
              "    .dataframe thead th {\n",
              "        text-align: right;\n",
              "    }\n",
              "</style>\n",
              "<table border=\"1\" class=\"dataframe\">\n",
              "  <thead>\n",
              "    <tr style=\"text-align: right;\">\n",
              "      <th></th>\n",
              "      <th>age</th>\n",
              "      <th>trestbps</th>\n",
              "      <th>chol</th>\n",
              "      <th>thalach</th>\n",
              "      <th>oldpeak</th>\n",
              "      <th>ca</th>\n",
              "    </tr>\n",
              "  </thead>\n",
              "  <tbody>\n",
              "    <tr>\n",
              "      <th>count</th>\n",
              "      <td>303.000000</td>\n",
              "      <td>303.000000</td>\n",
              "      <td>303.000000</td>\n",
              "      <td>303.000000</td>\n",
              "      <td>303.000000</td>\n",
              "      <td>303.000000</td>\n",
              "    </tr>\n",
              "    <tr>\n",
              "      <th>mean</th>\n",
              "      <td>54.366337</td>\n",
              "      <td>131.623762</td>\n",
              "      <td>246.264026</td>\n",
              "      <td>149.646865</td>\n",
              "      <td>1.039604</td>\n",
              "      <td>0.729373</td>\n",
              "    </tr>\n",
              "    <tr>\n",
              "      <th>std</th>\n",
              "      <td>9.082101</td>\n",
              "      <td>17.538143</td>\n",
              "      <td>51.830751</td>\n",
              "      <td>22.905161</td>\n",
              "      <td>1.161075</td>\n",
              "      <td>1.022606</td>\n",
              "    </tr>\n",
              "    <tr>\n",
              "      <th>min</th>\n",
              "      <td>29.000000</td>\n",
              "      <td>94.000000</td>\n",
              "      <td>126.000000</td>\n",
              "      <td>71.000000</td>\n",
              "      <td>0.000000</td>\n",
              "      <td>0.000000</td>\n",
              "    </tr>\n",
              "    <tr>\n",
              "      <th>25%</th>\n",
              "      <td>47.500000</td>\n",
              "      <td>120.000000</td>\n",
              "      <td>211.000000</td>\n",
              "      <td>133.500000</td>\n",
              "      <td>0.000000</td>\n",
              "      <td>0.000000</td>\n",
              "    </tr>\n",
              "    <tr>\n",
              "      <th>50%</th>\n",
              "      <td>55.000000</td>\n",
              "      <td>130.000000</td>\n",
              "      <td>240.000000</td>\n",
              "      <td>153.000000</td>\n",
              "      <td>0.800000</td>\n",
              "      <td>0.000000</td>\n",
              "    </tr>\n",
              "    <tr>\n",
              "      <th>75%</th>\n",
              "      <td>61.000000</td>\n",
              "      <td>140.000000</td>\n",
              "      <td>274.500000</td>\n",
              "      <td>166.000000</td>\n",
              "      <td>1.600000</td>\n",
              "      <td>1.000000</td>\n",
              "    </tr>\n",
              "    <tr>\n",
              "      <th>max</th>\n",
              "      <td>77.000000</td>\n",
              "      <td>200.000000</td>\n",
              "      <td>564.000000</td>\n",
              "      <td>202.000000</td>\n",
              "      <td>6.200000</td>\n",
              "      <td>4.000000</td>\n",
              "    </tr>\n",
              "  </tbody>\n",
              "</table>\n",
              "</div>"
            ],
            "text/plain": [
              "              age    trestbps        chol     thalach     oldpeak          ca\n",
              "count  303.000000  303.000000  303.000000  303.000000  303.000000  303.000000\n",
              "mean    54.366337  131.623762  246.264026  149.646865    1.039604    0.729373\n",
              "std      9.082101   17.538143   51.830751   22.905161    1.161075    1.022606\n",
              "min     29.000000   94.000000  126.000000   71.000000    0.000000    0.000000\n",
              "25%     47.500000  120.000000  211.000000  133.500000    0.000000    0.000000\n",
              "50%     55.000000  130.000000  240.000000  153.000000    0.800000    0.000000\n",
              "75%     61.000000  140.000000  274.500000  166.000000    1.600000    1.000000\n",
              "max     77.000000  200.000000  564.000000  202.000000    6.200000    4.000000"
            ]
          },
          "metadata": {
            "tags": []
          },
          "execution_count": 11
        }
      ]
    },
    {
      "cell_type": "markdown",
      "metadata": {
        "id": "ZyOQCKDm40vd"
      },
      "source": [
        "##### **Summary Statistics for Categorical Features**"
      ]
    },
    {
      "cell_type": "code",
      "metadata": {
        "id": "SxHMTlJu7Gje",
        "outputId": "7d687614-2986-46e7-a79f-5ea297ec0b02",
        "colab": {
          "base_uri": "https://localhost:8080/",
          "height": 173
        }
      },
      "source": [
        "df.describe(include='object')"
      ],
      "execution_count": 12,
      "outputs": [
        {
          "output_type": "execute_result",
          "data": {
            "text/html": [
              "<div>\n",
              "<style scoped>\n",
              "    .dataframe tbody tr th:only-of-type {\n",
              "        vertical-align: middle;\n",
              "    }\n",
              "\n",
              "    .dataframe tbody tr th {\n",
              "        vertical-align: top;\n",
              "    }\n",
              "\n",
              "    .dataframe thead th {\n",
              "        text-align: right;\n",
              "    }\n",
              "</style>\n",
              "<table border=\"1\" class=\"dataframe\">\n",
              "  <thead>\n",
              "    <tr style=\"text-align: right;\">\n",
              "      <th></th>\n",
              "      <th>sex</th>\n",
              "      <th>cp</th>\n",
              "      <th>fbs</th>\n",
              "      <th>restecg</th>\n",
              "      <th>exang</th>\n",
              "      <th>slope</th>\n",
              "      <th>thal</th>\n",
              "      <th>target</th>\n",
              "    </tr>\n",
              "  </thead>\n",
              "  <tbody>\n",
              "    <tr>\n",
              "      <th>count</th>\n",
              "      <td>303</td>\n",
              "      <td>303</td>\n",
              "      <td>303</td>\n",
              "      <td>303</td>\n",
              "      <td>303</td>\n",
              "      <td>303</td>\n",
              "      <td>303</td>\n",
              "      <td>303</td>\n",
              "    </tr>\n",
              "    <tr>\n",
              "      <th>unique</th>\n",
              "      <td>2</td>\n",
              "      <td>4</td>\n",
              "      <td>2</td>\n",
              "      <td>3</td>\n",
              "      <td>2</td>\n",
              "      <td>3</td>\n",
              "      <td>4</td>\n",
              "      <td>2</td>\n",
              "    </tr>\n",
              "    <tr>\n",
              "      <th>top</th>\n",
              "      <td>1</td>\n",
              "      <td>0</td>\n",
              "      <td>0</td>\n",
              "      <td>1</td>\n",
              "      <td>0</td>\n",
              "      <td>2</td>\n",
              "      <td>2</td>\n",
              "      <td>1</td>\n",
              "    </tr>\n",
              "    <tr>\n",
              "      <th>freq</th>\n",
              "      <td>207</td>\n",
              "      <td>143</td>\n",
              "      <td>258</td>\n",
              "      <td>152</td>\n",
              "      <td>204</td>\n",
              "      <td>142</td>\n",
              "      <td>166</td>\n",
              "      <td>165</td>\n",
              "    </tr>\n",
              "  </tbody>\n",
              "</table>\n",
              "</div>"
            ],
            "text/plain": [
              "        sex   cp  fbs  restecg  exang  slope  thal  target\n",
              "count   303  303  303      303    303    303   303     303\n",
              "unique    2    4    2        3      2      3     4       2\n",
              "top       1    0    0        1      0      2     2       1\n",
              "freq    207  143  258      152    204    142   166     165"
            ]
          },
          "metadata": {
            "tags": []
          },
          "execution_count": 12
        }
      ]
    },
    {
      "cell_type": "markdown",
      "metadata": {
        "id": "BvjfeGrLwkPC"
      },
      "source": [
        "### **Data Exploration and Visualization** <a name=DataExplorationAndVisualization></a>\n"
      ]
    },
    {
      "cell_type": "markdown",
      "metadata": {
        "id": "zhKN5DL8GivZ"
      },
      "source": [
        "#####**Uni-Variate Plots and Analysis**"
      ]
    },
    {
      "cell_type": "markdown",
      "metadata": {
        "id": "h6D5pPo5RV_l"
      },
      "source": [
        "##### **1. Bar chart for `sex` column.**"
      ]
    },
    {
      "cell_type": "code",
      "metadata": {
        "id": "Q1HYNj7XSBiz",
        "outputId": "9c7ae53d-c608-470f-d8db-b148183bfa27",
        "colab": {
          "base_uri": "https://localhost:8080/",
          "height": 312
        }
      },
      "source": [
        "# 1. Bar chart for 'sex' column\n",
        "ax = df['sex'].map({0:'Female',1:'Male'}).value_counts().plot(kind='bar',rot=0)\n",
        "ax.set_xlabel('Sex')\n",
        "ax.set_ylabel('Count')\n",
        "ax.set_title('Fig 1 : Bar Chart for Sex')"
      ],
      "execution_count": 13,
      "outputs": [
        {
          "output_type": "execute_result",
          "data": {
            "text/plain": [
              "Text(0.5, 1.0, 'Fig 1 : Bar Chart for Sex')"
            ]
          },
          "metadata": {
            "tags": []
          },
          "execution_count": 13
        },
        {
          "output_type": "display_data",
          "data": {
            "image/png": "[encoded data removed]",
            "text/plain": [
              "<Figure size 432x288 with 1 Axes>"
            ]
          },
          "metadata": {
            "tags": [],
            "needs_background": "light"
          }
        }
      ]
    },
    {
      "cell_type": "markdown",
      "metadata": {
        "id": "cQtZd2e-UOpu"
      },
      "source": [
        "**Explanation :**From the above bar chart we can see that there are significant more males as compared to females in our dataset. "
      ]
    },
    {
      "cell_type": "markdown",
      "metadata": {
        "id": "K4Ymqi_aVAda"
      },
      "source": [
        "##### **2. Bar chart for `fbs` column.**"
      ]
    },
    {
      "cell_type": "code",
      "metadata": {
        "id": "COXF84JuVH4k",
        "outputId": "0fe51839-0ed7-40bb-a1dc-5df74723cf4e",
        "colab": {
          "base_uri": "https://localhost:8080/",
          "height": 312
        }
      },
      "source": [
        "# 2. Bar chart for 'fbs' column\n",
        "ax = df['fbs'].map({0:'False',1:'True'}).value_counts().plot(kind='bar',rot=0)\n",
        "ax.set_xlabel('Fasting Blood Sugar > 120 mg/dl')\n",
        "ax.set_ylabel('Count')\n",
        "ax.set_title('Fig 2 : Bar Chart for Fasting Blood Sugar')"
      ],
      "execution_count": 14,
      "outputs": [
        {
          "output_type": "execute_result",
          "data": {
            "text/plain": [
              "Text(0.5, 1.0, 'Fig 2 : Bar Chart for Fasting Blood Sugar')"
            ]
          },
          "metadata": {
            "tags": []
          },
          "execution_count": 14
        },
        {
          "output_type": "display_data",
          "data": {
            "image/png": "[encoded data removed]",
            "text/plain": [
              "<Figure size 432x288 with 1 Axes>"
            ]
          },
          "metadata": {
            "tags": [],
            "needs_background": "light"
          }
        }
      ]
    },
    {
      "cell_type": "markdown",
      "metadata": {
        "id": "vy2_d5AUV9dw"
      },
      "source": [
        "**Explanation :** From the above bar graph we can conclude for majority of the observations the fasting blood sugar level is less than 120 mg/dl."
      ]
    },
    {
      "cell_type": "markdown",
      "metadata": {
        "id": "6WgmdU5-V-ql"
      },
      "source": [
        "##### **3. Bar chart for `exang` column.**"
      ]
    },
    {
      "cell_type": "code",
      "metadata": {
        "id": "Dck15432WHw_",
        "outputId": "65f82651-5c33-4017-dfa9-edf135b50d2d",
        "colab": {
          "base_uri": "https://localhost:8080/",
          "height": 312
        }
      },
      "source": [
        "# 3. Bar chart for 'exang' column\n",
        "ax = df['exang'].map({0:'No',1:'Yes'}).value_counts().plot(kind='bar',rot=0)\n",
        "ax.set_xlabel('Exercise Induced Angina')\n",
        "ax.set_ylabel('Count')\n",
        "ax.set_title('Fig 3 : Bar Chart for Exercise Induced Angina')"
      ],
      "execution_count": 15,
      "outputs": [
        {
          "output_type": "execute_result",
          "data": {
            "text/plain": [
              "Text(0.5, 1.0, 'Fig 3 : Bar Chart for Exercise Induced Angina')"
            ]
          },
          "metadata": {
            "tags": []
          },
          "execution_count": 15
        },
        {
          "output_type": "display_data",
          "data": {
            "image/png": "[encoded data removed]",
            "text/plain": [
              "<Figure size 432x288 with 1 Axes>"
            ]
          },
          "metadata": {
            "tags": [],
            "needs_background": "light"
          }
        }
      ]
    },
    {
      "cell_type": "markdown",
      "metadata": {
        "id": "QdAfG3HlWjAo"
      },
      "source": [
        "**Explanation :** From the above bar graph we can conclude that the count of people with exercise induced angina is comparatively lower than people which were induced with angina through exercise."
      ]
    },
    {
      "cell_type": "markdown",
      "metadata": {
        "id": "c3Bn2_KyZ2HP"
      },
      "source": [
        "##### **4. Boxplot for `age` column.**"
      ]
    },
    {
      "cell_type": "code",
      "metadata": {
        "id": "I_sbxq8NZ-aO",
        "outputId": "4b88beda-495f-4abf-c2bc-76b07cfc0c12",
        "colab": {
          "base_uri": "https://localhost:8080/",
          "height": 312
        }
      },
      "source": [
        "# 4. Boxplot for `age` column\n",
        "ax=sns.boxplot(x=df['age'])\n",
        "ax.set_title(\"Fig 4 : Age Distribution using Boxplot\")\n",
        "ax.set_xlabel('Age')"
      ],
      "execution_count": 16,
      "outputs": [
        {
          "output_type": "execute_result",
          "data": {
            "text/plain": [
              "Text(0.5, 0, 'Age')"
            ]
          },
          "metadata": {
            "tags": []
          },
          "execution_count": 16
        },
        {
          "output_type": "display_data",
          "data": {
            "image/png": "[encoded data removed]",
            "text/plain": [
              "<Figure size 432x288 with 1 Axes>"
            ]
          },
          "metadata": {
            "tags": [],
            "needs_background": "light"
          }
        }
      ]
    },
    {
      "cell_type": "markdown",
      "metadata": {
        "id": "l6ScuniNagZI"
      },
      "source": [
        "**Explanation :** From the above box plot we can see that most of the people are between their late 40s and early 60s."
      ]
    },
    {
      "cell_type": "markdown",
      "metadata": {
        "id": "vDQ0Zk6hRllL"
      },
      "source": [
        "##### **Bi-Variate Plots and Analysis**"
      ]
    },
    {
      "cell_type": "markdown",
      "metadata": {
        "id": "o7t4N4UTenNM"
      },
      "source": [
        "##### **5. Bar chart for `exang` vs `target` columns.**"
      ]
    },
    {
      "cell_type": "code",
      "metadata": {
        "id": "ZVzo-2aldE4X",
        "outputId": "1233a1b6-ffc3-4a28-a663-0d942caeb5f7",
        "colab": {
          "base_uri": "https://localhost:8080/",
          "height": 385
        }
      },
      "source": [
        "# 5. Bar chart for `exang` vs `target` columns.\n",
        "df_exang = df[['target', 'exang']].copy()\n",
        "df_exang_agg = df_exang.groupby(['target', 'exang']).size().reset_index(name='counts')\n",
        "df_exang_agg['exang'] = df_exang_agg['exang'].map({0:\"No\", 1:\"Yes\"})\n",
        "df_exang_agg['target'] = df_exang_agg['target'].map({0:\"No\", 1:\"Yes\"})\n",
        "ax = sns.factorplot(x='exang', y='counts', hue='target', data=df_exang_agg, kind='bar')\n",
        "ax.set(xlabel='Exercise Induced Angina', ylabel='Count')\n",
        "ax._legend.set_title(\"Heart disease\")\n",
        "plt.title(\"Fig 5 : Bar Chart for exang vs target\")\n",
        "plt.show()"
      ],
      "execution_count": 17,
      "outputs": [
        {
          "output_type": "display_data",
          "data": {
            "image/png": "[encoded data removed]",
            "text/plain": [
              "<Figure size 412x360 with 1 Axes>"
            ]
          },
          "metadata": {
            "tags": [],
            "needs_background": "light"
          }
        }
      ]
    },
    {
      "cell_type": "markdown",
      "metadata": {
        "id": "uuOEIBHgdFWF"
      },
      "source": [
        "**Explanation :** From the above bar chart we can see that for most people who are diagnosed with heart disease, exercise induced angina is not the case.Whereas, people who have exercise induced angina are not susceptible to heart disesases."
      ]
    },
    {
      "cell_type": "markdown",
      "metadata": {
        "id": "pyE2mLp5LHHD"
      },
      "source": [
        "##### **6. Boxplot for `target` vs `oldpeak` columns.**"
      ]
    },
    {
      "cell_type": "code",
      "metadata": {
        "id": "TB52HjinfQJF",
        "outputId": "7a396a52-8cfe-449e-e9d4-db76c14a0ac1",
        "colab": {
          "base_uri": "https://localhost:8080/",
          "height": 295
        }
      },
      "source": [
        "# 6. Boxplot for `target` vs `oldpeak` columns.**\n",
        "df_oldpeak = df[['target','oldpeak']]\n",
        "df_oldpeak['target'] = df_oldpeak['target'].map({0:\"No\", 1:\"Yes\"})\n",
        "ax = sns.boxplot(data = df_oldpeak, x = 'target', y = 'oldpeak')\n",
        "ax.set(xlabel = 'Heart disease', ylabel='ST depression induced by exercise relative to rest')\n",
        "plt.title(\"Fig 6 : Boxplot for target vs oldpeak\")\n",
        "plt.show()"
      ],
      "execution_count": 18,
      "outputs": [
        {
          "output_type": "display_data",
          "data": {
            "image/png": "[encoded data removed]",
            "text/plain": [
              "<Figure size 432x288 with 1 Axes>"
            ]
          },
          "metadata": {
            "tags": [],
            "needs_background": "light"
          }
        }
      ]
    },
    {
      "cell_type": "markdown",
      "metadata": {
        "id": "kpfcYf57h10x"
      },
      "source": [
        "**Explanation :** From the above box plot we can see that people with higher ST depression induced by exercise relative to rest are at a lower risk of having a heart condition comparatively."
      ]
    },
    {
      "cell_type": "markdown",
      "metadata": {
        "id": "4W24NU_QLe52"
      },
      "source": [
        "##### **7. Boxplot for `target` vs `chol` columns.**"
      ]
    },
    {
      "cell_type": "code",
      "metadata": {
        "id": "U09co1UgLlR4",
        "outputId": "8ef96eb4-5af1-422e-a0a6-4b70d7bf470c",
        "colab": {
          "base_uri": "https://localhost:8080/",
          "height": 295
        }
      },
      "source": [
        "# 7. Boxplot for `target` vs `chol` columns\n",
        "df_chol = df[['target','chol']]\n",
        "df_chol['target'] = df_chol['target'].map({0:\"No\", 1:\"Yes\"})\n",
        "ax = sns.boxplot(data = df_chol, x = 'target', y = 'chol')\n",
        "ax.set(xlabel = 'Heart disease', ylabel='Serum Cholestrol Level')\n",
        "plt.title(\"Fig 7 : Boxplot for target vs chol\")\n",
        "plt.show()"
      ],
      "execution_count": 19,
      "outputs": [
        {
          "output_type": "display_data",
          "data": {
            "image/png": "[encoded data removed]",
            "text/plain": [
              "<Figure size 432x288 with 1 Axes>"
            ]
          },
          "metadata": {
            "tags": [],
            "needs_background": "light"
          }
        }
      ]
    },
    {
      "cell_type": "markdown",
      "metadata": {
        "id": "eQ4qxUIMLl_W"
      },
      "source": [
        "**Explanation :** From the above box plot we can see that for a person having lower serum cholestoral level is more likely to have a heart disease as compared to a person who has a higher level of serum cholestoral."
      ]
    },
    {
      "cell_type": "markdown",
      "metadata": {
        "id": "REVMfNkIN5Wv"
      },
      "source": [
        "##### **8. Correlation matrix for numeric features**"
      ]
    },
    {
      "cell_type": "code",
      "metadata": {
        "id": "z3P0R9XPQSPw",
        "outputId": "58df5093-098b-4516-cf24-f8fe0887d713",
        "colab": {
          "base_uri": "https://localhost:8080/",
          "height": 570
        }
      },
      "source": [
        "# 8. Generating correlation matrix\n",
        "corr = df.corr()\n",
        "mask = np.triu(np.ones_like(corr, dtype=bool))\n",
        "f, ax = plt.subplots(figsize=(11, 9))\n",
        "cmap = sns.diverging_palette(230, 20, as_cmap=True)\n",
        "sns.heatmap(corr, mask=mask, cmap=cmap, vmax=.3, center=0,\n",
        "            square=True, linewidths=.5, cbar_kws={\"shrink\": .5})\n",
        "plt.title(\"Fig 8 : Correlation matrix\")"
      ],
      "execution_count": 20,
      "outputs": [
        {
          "output_type": "execute_result",
          "data": {
            "text/plain": [
              "Text(0.5, 1.0, 'Fig 8 : Correlation matrix')"
            ]
          },
          "metadata": {
            "tags": []
          },
          "execution_count": 20
        },
        {
          "output_type": "display_data",
          "data": {
            "image/png": "[encoded data removed]",
            "text/plain": [
              "<Figure size 792x648 with 2 Axes>"
            ]
          },
          "metadata": {
            "tags": [],
            "needs_background": "light"
          }
        }
      ]
    },
    {
      "cell_type": "markdown",
      "metadata": {
        "id": "D5gx8RGwj9DS"
      },
      "source": [
        "##### **Multi-Variate Plots and Analysis**"
      ]
    },
    {
      "cell_type": "markdown",
      "metadata": {
        "id": "qSA61Jiagbyq"
      },
      "source": [
        "##### **9. Scatter plot for `age` vs `oldpeak` vs `target` columns.**"
      ]
    },
    {
      "cell_type": "code",
      "metadata": {
        "id": "xeGVRe02gk1g",
        "outputId": "43e8f96b-7f78-4b23-d0d7-d512ee66a72f",
        "colab": {
          "base_uri": "https://localhost:8080/",
          "height": 385
        }
      },
      "source": [
        "# 9. Scatter plot for `age` vs `oldpeak` vs `target` columns\n",
        "ax=sns.lmplot(x='age', y='oldpeak', hue='target',data=df,fit_reg=False)\n",
        "ax.set(xlabel = 'Age', ylabel='ST depression induced by exercise relative to rest')\n",
        "plt.title(\"Fig 9 : Scatter plot for age vs oldpeak vs target\")\n",
        "plt.show()"
      ],
      "execution_count": 21,
      "outputs": [
        {
          "output_type": "display_data",
          "data": {
            "image/png": "[encoded data removed]",
            "text/plain": [
              "<Figure size 402.375x360 with 1 Axes>"
            ]
          },
          "metadata": {
            "tags": [],
            "needs_background": "light"
          }
        }
      ]
    },
    {
      "cell_type": "markdown",
      "metadata": {
        "id": "sMgnthwyi9b0"
      },
      "source": [
        "**Explanation :** From the above Scatter plot we can see that irrespective of the age of the person ,for majority of low values for ST depression induced through exercise, most of them are likely to have an heart disease."
      ]
    },
    {
      "cell_type": "markdown",
      "metadata": {
        "id": "Qn3eqjBxjqYh"
      },
      "source": [
        "##### **10. Boxplot for `sex` vs `trestbps` vs `target` columns.**"
      ]
    },
    {
      "cell_type": "code",
      "metadata": {
        "id": "fLEo3voEmxtQ",
        "outputId": "e8761c38-af88-4907-db1e-3e638d943aef",
        "colab": {
          "base_uri": "https://localhost:8080/",
          "height": 295
        }
      },
      "source": [
        "# 10. Boxplot for `sex` vs `trestbps` vs `target` columns\n",
        "df_sex_trestbps = df[['target','sex','trestbps']]\n",
        "df_sex_trestbps['target'] = df_sex_trestbps['target'].map({0:\"No\", 1:\"Yes\"})\n",
        "df_sex_trestbps['sex'] = df_sex_trestbps['sex'].map({0:\"Female\", 1:\"Male\"})\n",
        "ax = sns.boxplot(x='sex', y='trestbps', hue=\"target\",data=df_sex_trestbps, palette=\"Set3\")\n",
        "ax.legend(loc='best',bbox_to_anchor=(1.0, 1.0));\n",
        "ax.set(xlabel = 'Sex', ylabel='trestbps')\n",
        "plt.title(\"Fig 10 : Box plot for sex vs trestbps vs target\")\n",
        "plt.show()"
      ],
      "execution_count": 22,
      "outputs": [
        {
          "output_type": "display_data",
          "data": {
            "image/png": "[encoded data removed]",
            "text/plain": [
              "<Figure size 432x288 with 1 Axes>"
            ]
          },
          "metadata": {
            "tags": [],
            "needs_background": "light"
          }
        }
      ]
    },
    {
      "cell_type": "markdown",
      "metadata": {
        "id": "XuY36TBOo03n"
      },
      "source": [
        "**Explanation :** From the above Boxplot we can see that for males irrespective of whether they are diagnosed with heart disease or not, the resting blood pressure at the time of admission to the hospital is approximately the same,whereas, for females the median value for females diagnosed with heart disease is lower as compared to females not diagnosed with heart disease."
      ]
    },
    {
      "cell_type": "markdown",
      "metadata": {
        "id": "C-ehY-68tl-2"
      },
      "source": [
        "##### **11. Boxplot for `sex` vs `chol` vs `target` columns.**"
      ]
    },
    {
      "cell_type": "code",
      "metadata": {
        "id": "Rc8jGWj2ovxu",
        "outputId": "46163585-bfbd-45f8-96f8-8560391dd68a",
        "colab": {
          "base_uri": "https://localhost:8080/",
          "height": 295
        }
      },
      "source": [
        "# 11. Boxplot for `sex` vs `chol` vs `target` columns\n",
        "df_sex_chol = df[['target','sex','chol']]\n",
        "df_sex_chol['target'] = df_sex_chol['target'].map({0:\"No\", 1:\"Yes\"})\n",
        "df_sex_chol['sex'] = df_sex_chol['sex'].map({0:\"Female\", 1:\"Male\"})\n",
        "ax = sns.boxplot(x='sex', y='chol', hue=\"target\",data=df_sex_chol, palette=\"Set3\")\n",
        "ax.legend(loc='best',bbox_to_anchor=(1.0, 1.0));\n",
        "ax.set(xlabel = 'Sex', ylabel='Serum Cholestrol Level')\n",
        "plt.title(\"Fig 11 : Boxplot for sex vs chol vs target\")\n",
        "plt.show()"
      ],
      "execution_count": 23,
      "outputs": [
        {
          "output_type": "display_data",
          "data": {
            "image/png": "[encoded data removed]",
            "text/plain": [
              "<Figure size 432x288 with 1 Axes>"
            ]
          },
          "metadata": {
            "tags": [],
            "needs_background": "light"
          }
        }
      ]
    },
    {
      "cell_type": "markdown",
      "metadata": {
        "id": "weAvFdNUuWV4"
      },
      "source": [
        "**Explanation :** From the above Boxplot we can see that irrespective of the gender of the person,if the person is diagnosed with an heart disease the serum cholestoral level is lower as compared to a person who is not diagnosed with an heart disease."
      ]
    },
    {
      "cell_type": "markdown",
      "metadata": {
        "id": "JpTUHEGZR4Rg"
      },
      "source": [
        "### **Preparing data for modeling** <a name=PreparingDataForModeling></a>\n"
      ]
    },
    {
      "cell_type": "markdown",
      "metadata": {
        "id": "c-EC0rssUtvw"
      },
      "source": [
        "Encoding the target feature:"
      ]
    },
    {
      "cell_type": "code",
      "metadata": {
        "id": "VSTxh92JUwNN",
        "outputId": "dc4a56b5-a681-4eb6-e97e-bd75fa7d48cd",
        "colab": {
          "base_uri": "https://localhost:8080/",
          "height": 68
        }
      },
      "source": [
        "df_encoded = df.drop(columns='target')\n",
        "target = df['target']\n",
        "target.value_counts()"
      ],
      "execution_count": 24,
      "outputs": [
        {
          "output_type": "execute_result",
          "data": {
            "text/plain": [
              "1    165\n",
              "0    138\n",
              "Name: target, dtype: int64"
            ]
          },
          "metadata": {
            "tags": []
          },
          "execution_count": 24
        }
      ]
    },
    {
      "cell_type": "code",
      "metadata": {
        "id": "vK6C1a9CVS52",
        "outputId": "2f8d0477-73b2-4aad-c879-bbafd0ac6849",
        "colab": {
          "base_uri": "https://localhost:8080/",
          "height": 68
        }
      },
      "source": [
        "target = target.replace({'0': 0, '1': 1})\n",
        "target.value_counts()"
      ],
      "execution_count": 25,
      "outputs": [
        {
          "output_type": "execute_result",
          "data": {
            "text/plain": [
              "1    165\n",
              "0    138\n",
              "Name: target, dtype: int64"
            ]
          },
          "metadata": {
            "tags": []
          },
          "execution_count": 25
        }
      ]
    },
    {
      "cell_type": "markdown",
      "metadata": {
        "id": "VCO28WnUT8ia"
      },
      "source": [
        "Encoding descriptive features:"
      ]
    },
    {
      "cell_type": "code",
      "metadata": {
        "id": "q9TzKSB_UAtY",
        "outputId": "ddefc123-330c-4c74-88f3-4d5b14048f44",
        "colab": {
          "base_uri": "https://localhost:8080/",
          "height": 34
        }
      },
      "source": [
        "categorical_cols = df_encoded.columns[df_encoded.dtypes==object].tolist()\n",
        "categorical_cols"
      ],
      "execution_count": 26,
      "outputs": [
        {
          "output_type": "execute_result",
          "data": {
            "text/plain": [
              "['sex', 'cp', 'fbs', 'restecg', 'exang', 'slope', 'thal']"
            ]
          },
          "metadata": {
            "tags": []
          },
          "execution_count": 26
        }
      ]
    },
    {
      "cell_type": "code",
      "metadata": {
        "id": "IlD4dOJeVkJv"
      },
      "source": [
        "for col in categorical_cols:\n",
        "    n = len(df_encoded[col].unique())\n",
        "    if (n == 2):\n",
        "        df_encoded[col] = pd.get_dummies(df_encoded[col], drop_first=True)\n",
        "   \n",
        "# One-hot-encoding for categorical features with more than two levels\n",
        "df_encoded = pd.get_dummies(df_encoded)"
      ],
      "execution_count": 27,
      "outputs": []
    },
    {
      "cell_type": "code",
      "metadata": {
        "id": "WPgmeeS4WTCF",
        "outputId": "8351f44d-6f12-4834-c6bb-91d06763ca54",
        "colab": {
          "base_uri": "https://localhost:8080/",
          "height": 102
        }
      },
      "source": [
        "df_encoded.columns"
      ],
      "execution_count": 28,
      "outputs": [
        {
          "output_type": "execute_result",
          "data": {
            "text/plain": [
              "Index(['age', 'sex', 'trestbps', 'chol', 'fbs', 'thalach', 'exang', 'oldpeak',\n",
              "       'ca', 'cp_0', 'cp_1', 'cp_2', 'cp_3', 'restecg_0', 'restecg_1',\n",
              "       'restecg_2', 'slope_0', 'slope_1', 'slope_2', 'thal_0', 'thal_1',\n",
              "       'thal_2', 'thal_3'],\n",
              "      dtype='object')"
            ]
          },
          "metadata": {
            "tags": []
          },
          "execution_count": 28
        }
      ]
    },
    {
      "cell_type": "markdown",
      "metadata": {
        "id": "lYI9tWYXW3VQ"
      },
      "source": [
        "Final dataframe after encoding:"
      ]
    },
    {
      "cell_type": "code",
      "metadata": {
        "id": "D0Bc5soHSAlc",
        "outputId": "adabe995-fad2-4a49-9f9b-87d7471a91d6",
        "colab": {
          "base_uri": "https://localhost:8080/",
          "height": 224
        }
      },
      "source": [
        "df_encoded['target'] = target\n",
        "df_encoded.head()"
      ],
      "execution_count": 29,
      "outputs": [
        {
          "output_type": "execute_result",
          "data": {
            "text/html": [
              "<div>\n",
              "<style scoped>\n",
              "    .dataframe tbody tr th:only-of-type {\n",
              "        vertical-align: middle;\n",
              "    }\n",
              "\n",
              "    .dataframe tbody tr th {\n",
              "        vertical-align: top;\n",
              "    }\n",
              "\n",
              "    .dataframe thead th {\n",
              "        text-align: right;\n",
              "    }\n",
              "</style>\n",
              "<table border=\"1\" class=\"dataframe\">\n",
              "  <thead>\n",
              "    <tr style=\"text-align: right;\">\n",
              "      <th></th>\n",
              "      <th>age</th>\n",
              "      <th>sex</th>\n",
              "      <th>trestbps</th>\n",
              "      <th>chol</th>\n",
              "      <th>fbs</th>\n",
              "      <th>thalach</th>\n",
              "      <th>exang</th>\n",
              "      <th>oldpeak</th>\n",
              "      <th>ca</th>\n",
              "      <th>cp_0</th>\n",
              "      <th>cp_1</th>\n",
              "      <th>cp_2</th>\n",
              "      <th>cp_3</th>\n",
              "      <th>restecg_0</th>\n",
              "      <th>restecg_1</th>\n",
              "      <th>restecg_2</th>\n",
              "      <th>slope_0</th>\n",
              "      <th>slope_1</th>\n",
              "      <th>slope_2</th>\n",
              "      <th>thal_0</th>\n",
              "      <th>thal_1</th>\n",
              "      <th>thal_2</th>\n",
              "      <th>thal_3</th>\n",
              "      <th>target</th>\n",
              "    </tr>\n",
              "  </thead>\n",
              "  <tbody>\n",
              "    <tr>\n",
              "      <th>0</th>\n",
              "      <td>63</td>\n",
              "      <td>1</td>\n",
              "      <td>145</td>\n",
              "      <td>233</td>\n",
              "      <td>1</td>\n",
              "      <td>150</td>\n",
              "      <td>0</td>\n",
              "      <td>2.3</td>\n",
              "      <td>0</td>\n",
              "      <td>0</td>\n",
              "      <td>0</td>\n",
              "      <td>0</td>\n",
              "      <td>1</td>\n",
              "      <td>1</td>\n",
              "      <td>0</td>\n",
              "      <td>0</td>\n",
              "      <td>1</td>\n",
              "      <td>0</td>\n",
              "      <td>0</td>\n",
              "      <td>0</td>\n",
              "      <td>1</td>\n",
              "      <td>0</td>\n",
              "      <td>0</td>\n",
              "      <td>1</td>\n",
              "    </tr>\n",
              "    <tr>\n",
              "      <th>1</th>\n",
              "      <td>37</td>\n",
              "      <td>1</td>\n",
              "      <td>130</td>\n",
              "      <td>250</td>\n",
              "      <td>0</td>\n",
              "      <td>187</td>\n",
              "      <td>0</td>\n",
              "      <td>3.5</td>\n",
              "      <td>0</td>\n",
              "      <td>0</td>\n",
              "      <td>0</td>\n",
              "      <td>1</td>\n",
              "      <td>0</td>\n",
              "      <td>0</td>\n",
              "      <td>1</td>\n",
              "      <td>0</td>\n",
              "      <td>1</td>\n",
              "      <td>0</td>\n",
              "      <td>0</td>\n",
              "      <td>0</td>\n",
              "      <td>0</td>\n",
              "      <td>1</td>\n",
              "      <td>0</td>\n",
              "      <td>1</td>\n",
              "    </tr>\n",
              "    <tr>\n",
              "      <th>2</th>\n",
              "      <td>41</td>\n",
              "      <td>0</td>\n",
              "      <td>130</td>\n",
              "      <td>204</td>\n",
              "      <td>0</td>\n",
              "      <td>172</td>\n",
              "      <td>0</td>\n",
              "      <td>1.4</td>\n",
              "      <td>0</td>\n",
              "      <td>0</td>\n",
              "      <td>1</td>\n",
              "      <td>0</td>\n",
              "      <td>0</td>\n",
              "      <td>1</td>\n",
              "      <td>0</td>\n",
              "      <td>0</td>\n",
              "      <td>0</td>\n",
              "      <td>0</td>\n",
              "      <td>1</td>\n",
              "      <td>0</td>\n",
              "      <td>0</td>\n",
              "      <td>1</td>\n",
              "      <td>0</td>\n",
              "      <td>1</td>\n",
              "    </tr>\n",
              "    <tr>\n",
              "      <th>3</th>\n",
              "      <td>56</td>\n",
              "      <td>1</td>\n",
              "      <td>120</td>\n",
              "      <td>236</td>\n",
              "      <td>0</td>\n",
              "      <td>178</td>\n",
              "      <td>0</td>\n",
              "      <td>0.8</td>\n",
              "      <td>0</td>\n",
              "      <td>0</td>\n",
              "      <td>1</td>\n",
              "      <td>0</td>\n",
              "      <td>0</td>\n",
              "      <td>0</td>\n",
              "      <td>1</td>\n",
              "      <td>0</td>\n",
              "      <td>0</td>\n",
              "      <td>0</td>\n",
              "      <td>1</td>\n",
              "      <td>0</td>\n",
              "      <td>0</td>\n",
              "      <td>1</td>\n",
              "      <td>0</td>\n",
              "      <td>1</td>\n",
              "    </tr>\n",
              "    <tr>\n",
              "      <th>4</th>\n",
              "      <td>57</td>\n",
              "      <td>0</td>\n",
              "      <td>120</td>\n",
              "      <td>354</td>\n",
              "      <td>0</td>\n",
              "      <td>163</td>\n",
              "      <td>1</td>\n",
              "      <td>0.6</td>\n",
              "      <td>0</td>\n",
              "      <td>1</td>\n",
              "      <td>0</td>\n",
              "      <td>0</td>\n",
              "      <td>0</td>\n",
              "      <td>0</td>\n",
              "      <td>1</td>\n",
              "      <td>0</td>\n",
              "      <td>0</td>\n",
              "      <td>0</td>\n",
              "      <td>1</td>\n",
              "      <td>0</td>\n",
              "      <td>0</td>\n",
              "      <td>1</td>\n",
              "      <td>0</td>\n",
              "      <td>1</td>\n",
              "    </tr>\n",
              "  </tbody>\n",
              "</table>\n",
              "</div>"
            ],
            "text/plain": [
              "   age  sex  trestbps  chol  fbs  thalach  exang  oldpeak  ca  cp_0  cp_1  \\\n",
              "0   63    1       145   233    1      150      0      2.3   0     0     0   \n",
              "1   37    1       130   250    0      187      0      3.5   0     0     0   \n",
              "2   41    0       130   204    0      172      0      1.4   0     0     1   \n",
              "3   56    1       120   236    0      178      0      0.8   0     0     1   \n",
              "4   57    0       120   354    0      163      1      0.6   0     1     0   \n",
              "\n",
              "   cp_2  cp_3  restecg_0  restecg_1  restecg_2  slope_0  slope_1  slope_2  \\\n",
              "0     0     1          1          0          0        1        0        0   \n",
              "1     1     0          0          1          0        1        0        0   \n",
              "2     0     0          1          0          0        0        0        1   \n",
              "3     0     0          0          1          0        0        0        1   \n",
              "4     0     0          0          1          0        0        0        1   \n",
              "\n",
              "   thal_0  thal_1  thal_2  thal_3  target  \n",
              "0       0       1       0       0       1  \n",
              "1       0       0       1       0       1  \n",
              "2       0       0       1       0       1  \n",
              "3       0       0       1       0       1  \n",
              "4       0       0       1       0       1  "
            ]
          },
          "metadata": {
            "tags": []
          },
          "execution_count": 29
        }
      ]
    },
    {
      "cell_type": "markdown",
      "metadata": {
        "id": "GpmQCuWJYhXb"
      },
      "source": [
        "### **References** <a name=References></a>\n",
        " - Heart Disease UCI. Kaggle.com. (2020). Retrieved 24 September 2020, from https://www.kaggle.com/ronitf/heart-disease-uci.\n",
        " - www.featureranking.com. 2020. Regression Case Study | Www.Featureranking.Com. [online] Available at: <https://www.featureranking.com/tutorials/statistics-tutorials/regression-case-study/> [Accessed 25 September 2020].\n",
        " - www.featureranking.com. 2020. Regression Case Study | Www.Featureranking.Com. [online] Available at: <https://www.featureranking.com/tutorials/machine-learning-tutorials/case-study-predicting-income-status/> [Accessed 25 September 2020]."
      ]
    }
  ]
}